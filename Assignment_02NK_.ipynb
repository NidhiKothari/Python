{
  "nbformat": 4,
  "nbformat_minor": 0,
  "metadata": {
    "colab": {
      "name": " Assignment 02NK .ipynb",
      "version": "0.3.2",
      "provenance": [],
      "collapsed_sections": [],
      "include_colab_link": true
    },
    "kernelspec": {
      "name": "python3",
      "display_name": "Python 3"
    }
  },
  "cells": [
    {
      "cell_type": "markdown",
      "metadata": {
        "id": "view-in-github",
        "colab_type": "text"
      },
      "source": [
        "<a href=\"https://colab.research.google.com/github/NidhiKothari/Python/blob/master/Assignment_02NK_.ipynb\" target=\"_parent\"><img src=\"https://colab.research.google.com/assets/colab-badge.svg\" alt=\"Open In Colab\"/></a>"
      ]
    },
    {
      "cell_type": "markdown",
      "metadata": {
        "id": "ZHA7CNHQwKiQ",
        "colab_type": "text"
      },
      "source": [
        "### Problem Statement\n",
        "Perform a statistical analysis and some regression techniques to explore the dataset.\n",
        "You have two target variables (depending on the regression you are going to do):\n",
        "•\tFlagAccident: binary flag to show whether an accident has happened or not\n",
        "•\tCountts: the count of accidents that happened\n",
        "You also have a lot of geographic and weather-related data to help explain why you see different amounts of accidents on roads (GRID_ID) within Connecticut. Two major storms (Storm A and B) where there were many accidents have been provided two you.\n"
      ]
    },
    {
      "cell_type": "code",
      "metadata": {
        "id": "ipEmP-FcyrlD",
        "colab_type": "code",
        "colab": {}
      },
      "source": [
        "#!pip install scipy==1.2 \n",
        "import pandas as pd\n",
        "import sklearn \n",
        "import numpy as np\n",
        "import csv\n",
        "import matplotlib.pyplot as plt\n",
        "import seaborn as sb\n",
        "import scipy.stats as stats \n",
        "import math\n",
        "sb.set(rc={'figure.figsize':(5,5)})\n",
        "from statsmodels.graphics.gofplots import qqplot\n",
        "from sklearn.preprocessing import MinMaxScaler\n",
        "from sklearn.linear_model import LogisticRegression\n",
        "import statsmodels.api as ap"
      ],
      "execution_count": 0,
      "outputs": []
    },
    {
      "cell_type": "markdown",
      "metadata": {
        "id": "VAfQDcMCyRf4",
        "colab_type": "text"
      },
      "source": [
        "## Q1: Exploratory Data Analysis\n"
      ]
    },
    {
      "cell_type": "markdown",
      "metadata": {
        "id": "XxQDVNkJym3z",
        "colab_type": "text"
      },
      "source": [
        "### Show descriptive statistics for the numeric variables by storm. (10 points)"
      ]
    },
    {
      "cell_type": "code",
      "metadata": {
        "id": "9peu65EZyW0i",
        "colab_type": "code",
        "outputId": "26f38d8f-9d65-4ba3-b380-514a0ee6f406",
        "colab": {
          "base_uri": "https://localhost:8080/",
          "height": 234
        }
      },
      "source": [
        "data=pd.read_csv('https://drive.google.com/uc?export=download&id=1ohf9tuKSMK0IAQR63xLT-Y8W9w3u6wiA',header=0,encoding='cp1252')\n",
        "data.shape #(5702, 28)\n",
        "data.head()\n",
        "data1=data.dropna(how='all')\n",
        "data_2=data1.dropna(how='any')\n",
        "\n",
        "print(data.shape,data1.shape,data_2.shape)#This analysis shows that there are no null values in the dataset. However, doesn't imply anyother data inconsistencies.\n",
        "#To understand the data and find any anamolies, descriptive analysis would prove to be helpful.\n",
        "data.describe()\n",
        "data.groupby(['SimStartDate']).describe()# Descriptive statistics for the nummeric variables by storm"
      ],
      "execution_count": 2,
      "outputs": [
        {
          "output_type": "stream",
          "text": [
            "(5702, 28) (5702, 28) (5702, 28)\n"
          ],
          "name": "stdout"
        },
        {
          "output_type": "execute_result",
          "data": {
            "text/html": [
              "<div>\n",
              "<style scoped>\n",
              "    .dataframe tbody tr th:only-of-type {\n",
              "        vertical-align: middle;\n",
              "    }\n",
              "\n",
              "    .dataframe tbody tr th {\n",
              "        vertical-align: top;\n",
              "    }\n",
              "\n",
              "    .dataframe thead tr th {\n",
              "        text-align: left;\n",
              "    }\n",
              "\n",
              "    .dataframe thead tr:last-of-type th {\n",
              "        text-align: right;\n",
              "    }\n",
              "</style>\n",
              "<table border=\"1\" class=\"dataframe\">\n",
              "  <thead>\n",
              "    <tr>\n",
              "      <th></th>\n",
              "      <th colspan=\"8\" halign=\"left\">GRID_ID</th>\n",
              "      <th colspan=\"8\" halign=\"left\">RoadLength</th>\n",
              "      <th colspan=\"8\" halign=\"left\">MAXTotPrec</th>\n",
              "      <th colspan=\"8\" halign=\"left\">MAXWStress</th>\n",
              "      <th colspan=\"8\" halign=\"left\">MAXGust</th>\n",
              "      <th>...</th>\n",
              "      <th colspan=\"8\" halign=\"left\">MEANSpecHum</th>\n",
              "      <th colspan=\"8\" halign=\"left\">MEANAbsVor</th>\n",
              "      <th colspan=\"8\" halign=\"left\">MEANTemp</th>\n",
              "      <th colspan=\"8\" halign=\"left\">FlagAccident</th>\n",
              "      <th colspan=\"8\" halign=\"left\">CountAccident</th>\n",
              "    </tr>\n",
              "    <tr>\n",
              "      <th></th>\n",
              "      <th>count</th>\n",
              "      <th>mean</th>\n",
              "      <th>std</th>\n",
              "      <th>min</th>\n",
              "      <th>25%</th>\n",
              "      <th>50%</th>\n",
              "      <th>75%</th>\n",
              "      <th>max</th>\n",
              "      <th>count</th>\n",
              "      <th>mean</th>\n",
              "      <th>std</th>\n",
              "      <th>min</th>\n",
              "      <th>25%</th>\n",
              "      <th>50%</th>\n",
              "      <th>75%</th>\n",
              "      <th>max</th>\n",
              "      <th>count</th>\n",
              "      <th>mean</th>\n",
              "      <th>std</th>\n",
              "      <th>min</th>\n",
              "      <th>25%</th>\n",
              "      <th>50%</th>\n",
              "      <th>75%</th>\n",
              "      <th>max</th>\n",
              "      <th>count</th>\n",
              "      <th>mean</th>\n",
              "      <th>std</th>\n",
              "      <th>min</th>\n",
              "      <th>25%</th>\n",
              "      <th>50%</th>\n",
              "      <th>75%</th>\n",
              "      <th>max</th>\n",
              "      <th>count</th>\n",
              "      <th>mean</th>\n",
              "      <th>std</th>\n",
              "      <th>min</th>\n",
              "      <th>25%</th>\n",
              "      <th>50%</th>\n",
              "      <th>75%</th>\n",
              "      <th>max</th>\n",
              "      <th>...</th>\n",
              "      <th>count</th>\n",
              "      <th>mean</th>\n",
              "      <th>std</th>\n",
              "      <th>min</th>\n",
              "      <th>25%</th>\n",
              "      <th>50%</th>\n",
              "      <th>75%</th>\n",
              "      <th>max</th>\n",
              "      <th>count</th>\n",
              "      <th>mean</th>\n",
              "      <th>std</th>\n",
              "      <th>min</th>\n",
              "      <th>25%</th>\n",
              "      <th>50%</th>\n",
              "      <th>75%</th>\n",
              "      <th>max</th>\n",
              "      <th>count</th>\n",
              "      <th>mean</th>\n",
              "      <th>std</th>\n",
              "      <th>min</th>\n",
              "      <th>25%</th>\n",
              "      <th>50%</th>\n",
              "      <th>75%</th>\n",
              "      <th>max</th>\n",
              "      <th>count</th>\n",
              "      <th>mean</th>\n",
              "      <th>std</th>\n",
              "      <th>min</th>\n",
              "      <th>25%</th>\n",
              "      <th>50%</th>\n",
              "      <th>75%</th>\n",
              "      <th>max</th>\n",
              "      <th>count</th>\n",
              "      <th>mean</th>\n",
              "      <th>std</th>\n",
              "      <th>min</th>\n",
              "      <th>25%</th>\n",
              "      <th>50%</th>\n",
              "      <th>75%</th>\n",
              "      <th>max</th>\n",
              "    </tr>\n",
              "    <tr>\n",
              "      <th>SimStartDate</th>\n",
              "      <th></th>\n",
              "      <th></th>\n",
              "      <th></th>\n",
              "      <th></th>\n",
              "      <th></th>\n",
              "      <th></th>\n",
              "      <th></th>\n",
              "      <th></th>\n",
              "      <th></th>\n",
              "      <th></th>\n",
              "      <th></th>\n",
              "      <th></th>\n",
              "      <th></th>\n",
              "      <th></th>\n",
              "      <th></th>\n",
              "      <th></th>\n",
              "      <th></th>\n",
              "      <th></th>\n",
              "      <th></th>\n",
              "      <th></th>\n",
              "      <th></th>\n",
              "      <th></th>\n",
              "      <th></th>\n",
              "      <th></th>\n",
              "      <th></th>\n",
              "      <th></th>\n",
              "      <th></th>\n",
              "      <th></th>\n",
              "      <th></th>\n",
              "      <th></th>\n",
              "      <th></th>\n",
              "      <th></th>\n",
              "      <th></th>\n",
              "      <th></th>\n",
              "      <th></th>\n",
              "      <th></th>\n",
              "      <th></th>\n",
              "      <th></th>\n",
              "      <th></th>\n",
              "      <th></th>\n",
              "      <th></th>\n",
              "      <th></th>\n",
              "      <th></th>\n",
              "      <th></th>\n",
              "      <th></th>\n",
              "      <th></th>\n",
              "      <th></th>\n",
              "      <th></th>\n",
              "      <th></th>\n",
              "      <th></th>\n",
              "      <th></th>\n",
              "      <th></th>\n",
              "      <th></th>\n",
              "      <th></th>\n",
              "      <th></th>\n",
              "      <th></th>\n",
              "      <th></th>\n",
              "      <th></th>\n",
              "      <th></th>\n",
              "      <th></th>\n",
              "      <th></th>\n",
              "      <th></th>\n",
              "      <th></th>\n",
              "      <th></th>\n",
              "      <th></th>\n",
              "      <th></th>\n",
              "      <th></th>\n",
              "      <th></th>\n",
              "      <th></th>\n",
              "      <th></th>\n",
              "      <th></th>\n",
              "      <th></th>\n",
              "      <th></th>\n",
              "      <th></th>\n",
              "      <th></th>\n",
              "      <th></th>\n",
              "      <th></th>\n",
              "      <th></th>\n",
              "      <th></th>\n",
              "      <th></th>\n",
              "      <th></th>\n",
              "    </tr>\n",
              "  </thead>\n",
              "  <tbody>\n",
              "    <tr>\n",
              "      <th>StormA</th>\n",
              "      <td>2851.0</td>\n",
              "      <td>4268.025605</td>\n",
              "      <td>1233.431342</td>\n",
              "      <td>867.0</td>\n",
              "      <td>3344.0</td>\n",
              "      <td>4353.0</td>\n",
              "      <td>5296.5</td>\n",
              "      <td>6312.0</td>\n",
              "      <td>2851.0</td>\n",
              "      <td>124.372501</td>\n",
              "      <td>123.019702</td>\n",
              "      <td>1.0</td>\n",
              "      <td>48.0</td>\n",
              "      <td>84.0</td>\n",
              "      <td>159.0</td>\n",
              "      <td>1490.0</td>\n",
              "      <td>2851.0</td>\n",
              "      <td>129.717853</td>\n",
              "      <td>31.005555</td>\n",
              "      <td>55.6</td>\n",
              "      <td>105.3</td>\n",
              "      <td>124.9</td>\n",
              "      <td>153.39999</td>\n",
              "      <td>226.2</td>\n",
              "      <td>2851.0</td>\n",
              "      <td>1.347895</td>\n",
              "      <td>0.254168</td>\n",
              "      <td>0.68086</td>\n",
              "      <td>1.193675</td>\n",
              "      <td>1.31883</td>\n",
              "      <td>1.472075</td>\n",
              "      <td>2.74693</td>\n",
              "      <td>2851.0</td>\n",
              "      <td>25.730317</td>\n",
              "      <td>2.168323</td>\n",
              "      <td>19.96479</td>\n",
              "      <td>23.87182</td>\n",
              "      <td>26.22049</td>\n",
              "      <td>27.220490</td>\n",
              "      <td>34.76479</td>\n",
              "      <td>...</td>\n",
              "      <td>2851.0</td>\n",
              "      <td>0.015465</td>\n",
              "      <td>0.001515</td>\n",
              "      <td>0.00989</td>\n",
              "      <td>0.01555</td>\n",
              "      <td>0.01584</td>\n",
              "      <td>0.016045</td>\n",
              "      <td>0.01743</td>\n",
              "      <td>2851.0</td>\n",
              "      <td>0.223376</td>\n",
              "      <td>0.497643</td>\n",
              "      <td>-2.52104</td>\n",
              "      <td>-0.02104</td>\n",
              "      <td>0.22896</td>\n",
              "      <td>0.47896</td>\n",
              "      <td>2.94614</td>\n",
              "      <td>2851.0</td>\n",
              "      <td>295.419211</td>\n",
              "      <td>1.243836</td>\n",
              "      <td>290.21692</td>\n",
              "      <td>295.037535</td>\n",
              "      <td>295.68634</td>\n",
              "      <td>296.201035</td>\n",
              "      <td>297.44409</td>\n",
              "      <td>2851.0</td>\n",
              "      <td>0.831989</td>\n",
              "      <td>0.373942</td>\n",
              "      <td>0.0</td>\n",
              "      <td>1.0</td>\n",
              "      <td>1.0</td>\n",
              "      <td>1.0</td>\n",
              "      <td>1.0</td>\n",
              "      <td>2851.0</td>\n",
              "      <td>81.954051</td>\n",
              "      <td>244.903611</td>\n",
              "      <td>0.0</td>\n",
              "      <td>1.0</td>\n",
              "      <td>9.0</td>\n",
              "      <td>49.0</td>\n",
              "      <td>4761.0</td>\n",
              "    </tr>\n",
              "    <tr>\n",
              "      <th>StormB</th>\n",
              "      <td>2851.0</td>\n",
              "      <td>4268.025605</td>\n",
              "      <td>1233.431342</td>\n",
              "      <td>867.0</td>\n",
              "      <td>3344.0</td>\n",
              "      <td>4353.0</td>\n",
              "      <td>5296.5</td>\n",
              "      <td>6312.0</td>\n",
              "      <td>2851.0</td>\n",
              "      <td>124.372501</td>\n",
              "      <td>123.019702</td>\n",
              "      <td>1.0</td>\n",
              "      <td>48.0</td>\n",
              "      <td>84.0</td>\n",
              "      <td>159.0</td>\n",
              "      <td>1490.0</td>\n",
              "      <td>2851.0</td>\n",
              "      <td>28.595580</td>\n",
              "      <td>9.716539</td>\n",
              "      <td>8.8</td>\n",
              "      <td>21.8</td>\n",
              "      <td>26.9</td>\n",
              "      <td>33.80000</td>\n",
              "      <td>61.5</td>\n",
              "      <td>2851.0</td>\n",
              "      <td>1.425602</td>\n",
              "      <td>0.221236</td>\n",
              "      <td>0.61551</td>\n",
              "      <td>1.283160</td>\n",
              "      <td>1.38889</td>\n",
              "      <td>1.516815</td>\n",
              "      <td>2.68519</td>\n",
              "      <td>2851.0</td>\n",
              "      <td>28.499582</td>\n",
              "      <td>1.346934</td>\n",
              "      <td>25.59231</td>\n",
              "      <td>27.63690</td>\n",
              "      <td>28.26185</td>\n",
              "      <td>29.086225</td>\n",
              "      <td>37.46185</td>\n",
              "      <td>...</td>\n",
              "      <td>2851.0</td>\n",
              "      <td>0.010380</td>\n",
              "      <td>0.000601</td>\n",
              "      <td>0.00790</td>\n",
              "      <td>0.00996</td>\n",
              "      <td>0.01043</td>\n",
              "      <td>0.010890</td>\n",
              "      <td>0.01163</td>\n",
              "      <td>2851.0</td>\n",
              "      <td>0.072436</td>\n",
              "      <td>0.622957</td>\n",
              "      <td>-3.31835</td>\n",
              "      <td>-0.12145</td>\n",
              "      <td>0.10665</td>\n",
              "      <td>0.32654</td>\n",
              "      <td>4.56255</td>\n",
              "      <td>2851.0</td>\n",
              "      <td>289.927799</td>\n",
              "      <td>1.213126</td>\n",
              "      <td>285.57498</td>\n",
              "      <td>289.192870</td>\n",
              "      <td>290.00766</td>\n",
              "      <td>290.915635</td>\n",
              "      <td>292.09686</td>\n",
              "      <td>2851.0</td>\n",
              "      <td>0.789898</td>\n",
              "      <td>0.407452</td>\n",
              "      <td>0.0</td>\n",
              "      <td>1.0</td>\n",
              "      <td>1.0</td>\n",
              "      <td>1.0</td>\n",
              "      <td>1.0</td>\n",
              "      <td>2851.0</td>\n",
              "      <td>108.884953</td>\n",
              "      <td>422.289610</td>\n",
              "      <td>0.0</td>\n",
              "      <td>1.0</td>\n",
              "      <td>4.0</td>\n",
              "      <td>36.0</td>\n",
              "      <td>6241.0</td>\n",
              "    </tr>\n",
              "  </tbody>\n",
              "</table>\n",
              "<p>2 rows × 208 columns</p>\n",
              "</div>"
            ],
            "text/plain": [
              "             GRID_ID                                   ... CountAccident                   \n",
              "               count         mean          std    min  ...           25%  50%   75%     max\n",
              "SimStartDate                                           ...                                 \n",
              "StormA        2851.0  4268.025605  1233.431342  867.0  ...           1.0  9.0  49.0  4761.0\n",
              "StormB        2851.0  4268.025605  1233.431342  867.0  ...           1.0  4.0  36.0  6241.0\n",
              "\n",
              "[2 rows x 208 columns]"
            ]
          },
          "metadata": {
            "tags": []
          },
          "execution_count": 2
        }
      ]
    },
    {
      "cell_type": "markdown",
      "metadata": {
        "id": "vEWWY4_Jgh7i",
        "colab_type": "text"
      },
      "source": [
        "### Show three different, interesting plots; give each a meaningful caption that describes what you see. "
      ]
    },
    {
      "cell_type": "code",
      "metadata": {
        "id": "1moPSsPgDiyR",
        "colab_type": "code",
        "outputId": "48d1825e-e7a1-4820-f834-b4e5fb8c7da2",
        "colab": {
          "base_uri": "https://localhost:8080/",
          "height": 746
        }
      },
      "source": [
        "##PLot 1 - There is a good overlapping range between the scatter plots of Storm A and Storm B . As per us it is better to see the boxplots for these cases because , we believe if a model is built to predict type of model, the model might not have high accuracy.\n",
        "accident_data=data[data['FlagAccident']==1]\n",
        "accident_data['SimStartDate'].value_counts()\n",
        "plt.scatter(data['SimStartDate'],data['CountAccident'])\n",
        "plt.title(\"Count of Accidents VS Storms\")\n",
        "plt.xlabel('Storm')\n",
        "plt.ylabel(\"CountAccident\")\n",
        "plt.show()\n",
        "\n",
        "ax = sb.distplot(data['CountAccident'],\n",
        "                  kde=True,\n",
        "                  color='green')\n",
        "ax.set(xlabel='Poisson', ylabel='Frequency',title='Histogram of Count of Accidents')"
      ],
      "execution_count": 3,
      "outputs": [
        {
          "output_type": "display_data",
          "data": {
            "image/png": "[encoded data removed]",
            "text/plain": [
              "<Figure size 360x360 with 1 Axes>"
            ]
          },
          "metadata": {
            "tags": []
          }
        },
        {
          "output_type": "execute_result",
          "data": {
            "text/plain": [
              "[Text(0, 0.5, 'Frequency'),\n",
              " Text(0.5, 0, 'Poisson'),\n",
              " Text(0.5, 1.0, 'Histogram of Count of Accidents')]"
            ]
          },
          "metadata": {
            "tags": []
          },
          "execution_count": 3
        },
        {
          "output_type": "display_data",
          "data": {
            "image/png": "[encoded data removed]",
            "text/plain": [
              "<Figure size 360x360 with 1 Axes>"
            ]
          },
          "metadata": {
            "tags": []
          }
        }
      ]
    },
    {
      "cell_type": "code",
      "metadata": {
        "id": "_FPyB7XhT6Vi",
        "colab_type": "code",
        "outputId": "9eed3f1f-02f1-4cca-a8f6-5f66b241489c",
        "colab": {
          "base_uri": "https://localhost:8080/",
          "height": 728
        }
      },
      "source": [
        "#PLot 2 - Shows that maximun number of accidents occur in New Haven.\n",
        "\n",
        "plt.scatter(data['Region'],data['CountAccident'])\n",
        "plt.title(\"Count of Accidents VS Region\")\n",
        "plt.show()\n",
        "\n",
        "ax1 = sb.distplot(data['FlagAccident'],\n",
        "                  kde=True,\n",
        "                  color='Yellow')\n",
        "ax1.set(xlabel='Binonmial', ylabel='Frequency',title='Histogram of Flag of Accidents')\n",
        "\n",
        "\n"
      ],
      "execution_count": 4,
      "outputs": [
        {
          "output_type": "display_data",
          "data": {
            "image/png": "[encoded data removed]",
            "text/plain": [
              "<Figure size 360x360 with 1 Axes>"
            ]
          },
          "metadata": {
            "tags": []
          }
        },
        {
          "output_type": "execute_result",
          "data": {
            "text/plain": [
              "[Text(0, 0.5, 'Frequency'),\n",
              " Text(0.5, 0, 'Binonmial'),\n",
              " Text(0.5, 1.0, 'Histogram of Flag of Accidents')]"
            ]
          },
          "metadata": {
            "tags": []
          },
          "execution_count": 4
        },
        {
          "output_type": "display_data",
          "data": {
            "image/png": "[encoded data removed]",
            "text/plain": [
              "<Figure size 360x360 with 1 Axes>"
            ]
          },
          "metadata": {
            "tags": []
          }
        }
      ]
    },
    {
      "cell_type": "code",
      "metadata": {
        "id": "WwnS6TBKXlcY",
        "colab_type": "code",
        "outputId": "938b6bcf-60bf-4eb4-aaca-c068a3c4c4dd",
        "colab": {
          "base_uri": "https://localhost:8080/",
          "height": 558
        }
      },
      "source": [
        "#PLot 3 - The plot shows many dark green and dark red boxes. Thus, it shows that many variables are correlated to each other and should be removed before prediction to avoid redundancy .\n",
        "sb.set(rc={'figure.figsize':(9,9)})\n",
        "\n",
        "corr = data.corr()\n",
        "ax = sb.heatmap(\n",
        "    corr, \n",
        "    vmin=-1, vmax=1, center=0,\n",
        "    cmap=sb.diverging_palette(20, 220, n=200),\n",
        "    square=True,linewidths =0,)\n",
        "ax.set_xticklabels(\n",
        "    ax.get_xticklabels(),\n",
        "    rotation=45,\n",
        "    horizontalalignment='center'\n",
        ");\n",
        "sb.set(rc={'figure.figsize':(7,7)})\n"
      ],
      "execution_count": 5,
      "outputs": [
        {
          "output_type": "display_data",
          "data": {
            "image/png": "[encoded data removed]",
            "text/plain": [
              "<Figure size 648x648 with 2 Axes>"
            ]
          },
          "metadata": {
            "tags": []
          }
        }
      ]
    },
    {
      "cell_type": "markdown",
      "metadata": {
        "id": "IUhaZ6Rmgp4I",
        "colab_type": "text"
      },
      "source": [
        "## Q2: Hypothesis Testing "
      ]
    },
    {
      "cell_type": "markdown",
      "metadata": {
        "id": "DIC8_mlRPe6S",
        "colab_type": "text"
      },
      "source": [
        "### Assumptions made\n",
        "\n",
        "\n",
        "1.   The data is normally distributied based on the central limit theoram.Since the sample size is large enough (2523 rows for fairfield and hartford alone) we can consider means of the sample follows a normal distribution.\n",
        "\n",
        "\n"
      ]
    },
    {
      "cell_type": "markdown",
      "metadata": {
        "id": "TLikg3E7g0Jl",
        "colab_type": "text"
      },
      "source": [
        "### Proportion test:"
      ]
    },
    {
      "cell_type": "markdown",
      "metadata": {
        "id": "owoYTstZtEeK",
        "colab_type": "text"
      },
      "source": [
        "### CLAIM: On average, towns in Fairfield County have more accidents than Hartford .\n",
        "\n",
        "Hypothesis Test-\n",
        "\n",
        "H0 - Average number of accidents in Fairfield county is less than or equal to that in Hartford\n",
        "\n",
        "H1- Average number of Accidents in Fairfield County more than that in Hartford\n",
        "\n",
        "\n",
        "A two-sample t-test investigates whether the means of two independent data samples differ from one another. In a two-sample test, the null hypothesis is that the means of both groups are the same"
      ]
    },
    {
      "cell_type": "code",
      "metadata": {
        "id": "yDUH8GbIRL28",
        "colab_type": "code",
        "outputId": "c978dad7-e60d-4035-e191-f7a8b5c7a8a9",
        "colab": {
          "base_uri": "https://localhost:8080/",
          "height": 293
        }
      },
      "source": [
        "\n",
        "df=data.groupby(['Region']).describe()\n",
        "df"
      ],
      "execution_count": 6,
      "outputs": [
        {
          "output_type": "execute_result",
          "data": {
            "text/html": [
              "<div>\n",
              "<style scoped>\n",
              "    .dataframe tbody tr th:only-of-type {\n",
              "        vertical-align: middle;\n",
              "    }\n",
              "\n",
              "    .dataframe tbody tr th {\n",
              "        vertical-align: top;\n",
              "    }\n",
              "\n",
              "    .dataframe thead tr th {\n",
              "        text-align: left;\n",
              "    }\n",
              "\n",
              "    .dataframe thead tr:last-of-type th {\n",
              "        text-align: right;\n",
              "    }\n",
              "</style>\n",
              "<table border=\"1\" class=\"dataframe\">\n",
              "  <thead>\n",
              "    <tr>\n",
              "      <th></th>\n",
              "      <th colspan=\"8\" halign=\"left\">GRID_ID</th>\n",
              "      <th colspan=\"8\" halign=\"left\">RoadLength</th>\n",
              "      <th colspan=\"8\" halign=\"left\">MAXTotPrec</th>\n",
              "      <th colspan=\"8\" halign=\"left\">MAXWStress</th>\n",
              "      <th colspan=\"8\" halign=\"left\">MAXGust</th>\n",
              "      <th>...</th>\n",
              "      <th colspan=\"8\" halign=\"left\">MEANSpecHum</th>\n",
              "      <th colspan=\"8\" halign=\"left\">MEANAbsVor</th>\n",
              "      <th colspan=\"8\" halign=\"left\">MEANTemp</th>\n",
              "      <th colspan=\"8\" halign=\"left\">FlagAccident</th>\n",
              "      <th colspan=\"8\" halign=\"left\">CountAccident</th>\n",
              "    </tr>\n",
              "    <tr>\n",
              "      <th></th>\n",
              "      <th>count</th>\n",
              "      <th>mean</th>\n",
              "      <th>std</th>\n",
              "      <th>min</th>\n",
              "      <th>25%</th>\n",
              "      <th>50%</th>\n",
              "      <th>75%</th>\n",
              "      <th>max</th>\n",
              "      <th>count</th>\n",
              "      <th>mean</th>\n",
              "      <th>std</th>\n",
              "      <th>min</th>\n",
              "      <th>25%</th>\n",
              "      <th>50%</th>\n",
              "      <th>75%</th>\n",
              "      <th>max</th>\n",
              "      <th>count</th>\n",
              "      <th>mean</th>\n",
              "      <th>std</th>\n",
              "      <th>min</th>\n",
              "      <th>25%</th>\n",
              "      <th>50%</th>\n",
              "      <th>75%</th>\n",
              "      <th>max</th>\n",
              "      <th>count</th>\n",
              "      <th>mean</th>\n",
              "      <th>std</th>\n",
              "      <th>min</th>\n",
              "      <th>25%</th>\n",
              "      <th>50%</th>\n",
              "      <th>75%</th>\n",
              "      <th>max</th>\n",
              "      <th>count</th>\n",
              "      <th>mean</th>\n",
              "      <th>std</th>\n",
              "      <th>min</th>\n",
              "      <th>25%</th>\n",
              "      <th>50%</th>\n",
              "      <th>75%</th>\n",
              "      <th>max</th>\n",
              "      <th>...</th>\n",
              "      <th>count</th>\n",
              "      <th>mean</th>\n",
              "      <th>std</th>\n",
              "      <th>min</th>\n",
              "      <th>25%</th>\n",
              "      <th>50%</th>\n",
              "      <th>75%</th>\n",
              "      <th>max</th>\n",
              "      <th>count</th>\n",
              "      <th>mean</th>\n",
              "      <th>std</th>\n",
              "      <th>min</th>\n",
              "      <th>25%</th>\n",
              "      <th>50%</th>\n",
              "      <th>75%</th>\n",
              "      <th>max</th>\n",
              "      <th>count</th>\n",
              "      <th>mean</th>\n",
              "      <th>std</th>\n",
              "      <th>min</th>\n",
              "      <th>25%</th>\n",
              "      <th>50%</th>\n",
              "      <th>75%</th>\n",
              "      <th>max</th>\n",
              "      <th>count</th>\n",
              "      <th>mean</th>\n",
              "      <th>std</th>\n",
              "      <th>min</th>\n",
              "      <th>25%</th>\n",
              "      <th>50%</th>\n",
              "      <th>75%</th>\n",
              "      <th>max</th>\n",
              "      <th>count</th>\n",
              "      <th>mean</th>\n",
              "      <th>std</th>\n",
              "      <th>min</th>\n",
              "      <th>25%</th>\n",
              "      <th>50%</th>\n",
              "      <th>75%</th>\n",
              "      <th>max</th>\n",
              "    </tr>\n",
              "    <tr>\n",
              "      <th>Region</th>\n",
              "      <th></th>\n",
              "      <th></th>\n",
              "      <th></th>\n",
              "      <th></th>\n",
              "      <th></th>\n",
              "      <th></th>\n",
              "      <th></th>\n",
              "      <th></th>\n",
              "      <th></th>\n",
              "      <th></th>\n",
              "      <th></th>\n",
              "      <th></th>\n",
              "      <th></th>\n",
              "      <th></th>\n",
              "      <th></th>\n",
              "      <th></th>\n",
              "      <th></th>\n",
              "      <th></th>\n",
              "      <th></th>\n",
              "      <th></th>\n",
              "      <th></th>\n",
              "      <th></th>\n",
              "      <th></th>\n",
              "      <th></th>\n",
              "      <th></th>\n",
              "      <th></th>\n",
              "      <th></th>\n",
              "      <th></th>\n",
              "      <th></th>\n",
              "      <th></th>\n",
              "      <th></th>\n",
              "      <th></th>\n",
              "      <th></th>\n",
              "      <th></th>\n",
              "      <th></th>\n",
              "      <th></th>\n",
              "      <th></th>\n",
              "      <th></th>\n",
              "      <th></th>\n",
              "      <th></th>\n",
              "      <th></th>\n",
              "      <th></th>\n",
              "      <th></th>\n",
              "      <th></th>\n",
              "      <th></th>\n",
              "      <th></th>\n",
              "      <th></th>\n",
              "      <th></th>\n",
              "      <th></th>\n",
              "      <th></th>\n",
              "      <th></th>\n",
              "      <th></th>\n",
              "      <th></th>\n",
              "      <th></th>\n",
              "      <th></th>\n",
              "      <th></th>\n",
              "      <th></th>\n",
              "      <th></th>\n",
              "      <th></th>\n",
              "      <th></th>\n",
              "      <th></th>\n",
              "      <th></th>\n",
              "      <th></th>\n",
              "      <th></th>\n",
              "      <th></th>\n",
              "      <th></th>\n",
              "      <th></th>\n",
              "      <th></th>\n",
              "      <th></th>\n",
              "      <th></th>\n",
              "      <th></th>\n",
              "      <th></th>\n",
              "      <th></th>\n",
              "      <th></th>\n",
              "      <th></th>\n",
              "      <th></th>\n",
              "      <th></th>\n",
              "      <th></th>\n",
              "      <th></th>\n",
              "      <th></th>\n",
              "      <th></th>\n",
              "    </tr>\n",
              "  </thead>\n",
              "  <tbody>\n",
              "    <tr>\n",
              "      <th>Fairfield</th>\n",
              "      <td>1474.0</td>\n",
              "      <td>4701.605156</td>\n",
              "      <td>952.095914</td>\n",
              "      <td>2755.0</td>\n",
              "      <td>3909.0</td>\n",
              "      <td>4692.0</td>\n",
              "      <td>5532.00</td>\n",
              "      <td>6312.0</td>\n",
              "      <td>1474.0</td>\n",
              "      <td>122.853460</td>\n",
              "      <td>130.883178</td>\n",
              "      <td>1.0</td>\n",
              "      <td>38.0</td>\n",
              "      <td>77.0</td>\n",
              "      <td>157.0</td>\n",
              "      <td>824.0</td>\n",
              "      <td>1474.0</td>\n",
              "      <td>92.472660</td>\n",
              "      <td>67.249484</td>\n",
              "      <td>16.7</td>\n",
              "      <td>25.4</td>\n",
              "      <td>76.5</td>\n",
              "      <td>157.800000</td>\n",
              "      <td>226.20000</td>\n",
              "      <td>1474.0</td>\n",
              "      <td>1.358073</td>\n",
              "      <td>0.255428</td>\n",
              "      <td>0.79198</td>\n",
              "      <td>1.184868</td>\n",
              "      <td>1.335360</td>\n",
              "      <td>1.479988</td>\n",
              "      <td>2.68519</td>\n",
              "      <td>1474.0</td>\n",
              "      <td>26.681072</td>\n",
              "      <td>2.516395</td>\n",
              "      <td>21.52048</td>\n",
              "      <td>24.42048</td>\n",
              "      <td>27.26808</td>\n",
              "      <td>28.314150</td>\n",
              "      <td>37.11415</td>\n",
              "      <td>...</td>\n",
              "      <td>1474.0</td>\n",
              "      <td>0.012485</td>\n",
              "      <td>0.002903</td>\n",
              "      <td>0.00790</td>\n",
              "      <td>0.010080</td>\n",
              "      <td>0.010630</td>\n",
              "      <td>0.01585</td>\n",
              "      <td>0.01662</td>\n",
              "      <td>1474.0</td>\n",
              "      <td>0.246469</td>\n",
              "      <td>0.650437</td>\n",
              "      <td>-2.40721</td>\n",
              "      <td>-0.081790</td>\n",
              "      <td>0.243210</td>\n",
              "      <td>0.58057</td>\n",
              "      <td>3.38755</td>\n",
              "      <td>1474.0</td>\n",
              "      <td>291.760626</td>\n",
              "      <td>2.988586</td>\n",
              "      <td>285.57498</td>\n",
              "      <td>289.304640</td>\n",
              "      <td>290.948365</td>\n",
              "      <td>294.798130</td>\n",
              "      <td>296.50211</td>\n",
              "      <td>1474.0</td>\n",
              "      <td>0.755767</td>\n",
              "      <td>0.429778</td>\n",
              "      <td>0.0</td>\n",
              "      <td>1.0</td>\n",
              "      <td>1.0</td>\n",
              "      <td>1.0</td>\n",
              "      <td>1.0</td>\n",
              "      <td>1474.0</td>\n",
              "      <td>23.751696</td>\n",
              "      <td>57.788992</td>\n",
              "      <td>0.0</td>\n",
              "      <td>1.0</td>\n",
              "      <td>4.0</td>\n",
              "      <td>16.0</td>\n",
              "      <td>676.0</td>\n",
              "    </tr>\n",
              "    <tr>\n",
              "      <th>Hartford</th>\n",
              "      <td>1048.0</td>\n",
              "      <td>5469.923664</td>\n",
              "      <td>480.133627</td>\n",
              "      <td>4239.0</td>\n",
              "      <td>5097.5</td>\n",
              "      <td>5500.0</td>\n",
              "      <td>5877.25</td>\n",
              "      <td>6265.0</td>\n",
              "      <td>1048.0</td>\n",
              "      <td>133.080153</td>\n",
              "      <td>105.745840</td>\n",
              "      <td>2.0</td>\n",
              "      <td>61.0</td>\n",
              "      <td>100.0</td>\n",
              "      <td>186.5</td>\n",
              "      <td>594.0</td>\n",
              "      <td>1048.0</td>\n",
              "      <td>73.957920</td>\n",
              "      <td>52.949731</td>\n",
              "      <td>8.8</td>\n",
              "      <td>21.7</td>\n",
              "      <td>69.3</td>\n",
              "      <td>121.325000</td>\n",
              "      <td>207.50000</td>\n",
              "      <td>1048.0</td>\n",
              "      <td>1.380770</td>\n",
              "      <td>0.170230</td>\n",
              "      <td>0.94499</td>\n",
              "      <td>1.259903</td>\n",
              "      <td>1.363040</td>\n",
              "      <td>1.482065</td>\n",
              "      <td>2.24988</td>\n",
              "      <td>1048.0</td>\n",
              "      <td>27.044576</td>\n",
              "      <td>1.144328</td>\n",
              "      <td>22.82911</td>\n",
              "      <td>26.37182</td>\n",
              "      <td>27.12049</td>\n",
              "      <td>27.720490</td>\n",
              "      <td>33.49231</td>\n",
              "      <td>...</td>\n",
              "      <td>1048.0</td>\n",
              "      <td>0.012663</td>\n",
              "      <td>0.002780</td>\n",
              "      <td>0.00907</td>\n",
              "      <td>0.009840</td>\n",
              "      <td>0.010910</td>\n",
              "      <td>0.01549</td>\n",
              "      <td>0.01603</td>\n",
              "      <td>1048.0</td>\n",
              "      <td>0.175201</td>\n",
              "      <td>0.435240</td>\n",
              "      <td>-1.28179</td>\n",
              "      <td>-0.086790</td>\n",
              "      <td>0.158405</td>\n",
              "      <td>0.41369</td>\n",
              "      <td>2.66321</td>\n",
              "      <td>1048.0</td>\n",
              "      <td>292.571509</td>\n",
              "      <td>3.120564</td>\n",
              "      <td>286.69977</td>\n",
              "      <td>289.591040</td>\n",
              "      <td>291.857330</td>\n",
              "      <td>295.734380</td>\n",
              "      <td>296.85486</td>\n",
              "      <td>1048.0</td>\n",
              "      <td>0.759542</td>\n",
              "      <td>0.427566</td>\n",
              "      <td>0.0</td>\n",
              "      <td>1.0</td>\n",
              "      <td>1.0</td>\n",
              "      <td>1.0</td>\n",
              "      <td>1.0</td>\n",
              "      <td>1048.0</td>\n",
              "      <td>31.811069</td>\n",
              "      <td>147.781908</td>\n",
              "      <td>0.0</td>\n",
              "      <td>1.0</td>\n",
              "      <td>4.0</td>\n",
              "      <td>16.0</td>\n",
              "      <td>2500.0</td>\n",
              "    </tr>\n",
              "    <tr>\n",
              "      <th>New Haven</th>\n",
              "      <td>914.0</td>\n",
              "      <td>2935.794311</td>\n",
              "      <td>1132.234810</td>\n",
              "      <td>867.0</td>\n",
              "      <td>1892.0</td>\n",
              "      <td>2916.0</td>\n",
              "      <td>3888.00</td>\n",
              "      <td>5018.0</td>\n",
              "      <td>914.0</td>\n",
              "      <td>195.096280</td>\n",
              "      <td>173.979930</td>\n",
              "      <td>1.0</td>\n",
              "      <td>73.0</td>\n",
              "      <td>151.0</td>\n",
              "      <td>256.0</td>\n",
              "      <td>1490.0</td>\n",
              "      <td>914.0</td>\n",
              "      <td>92.756674</td>\n",
              "      <td>64.136313</td>\n",
              "      <td>17.6</td>\n",
              "      <td>29.2</td>\n",
              "      <td>82.0</td>\n",
              "      <td>153.750002</td>\n",
              "      <td>194.20000</td>\n",
              "      <td>914.0</td>\n",
              "      <td>1.321880</td>\n",
              "      <td>0.275229</td>\n",
              "      <td>0.79215</td>\n",
              "      <td>1.127792</td>\n",
              "      <td>1.272880</td>\n",
              "      <td>1.496990</td>\n",
              "      <td>2.46266</td>\n",
              "      <td>914.0</td>\n",
              "      <td>25.896353</td>\n",
              "      <td>3.478230</td>\n",
              "      <td>19.96479</td>\n",
              "      <td>22.42048</td>\n",
              "      <td>26.92253</td>\n",
              "      <td>28.730910</td>\n",
              "      <td>36.61415</td>\n",
              "      <td>...</td>\n",
              "      <td>914.0</td>\n",
              "      <td>0.012942</td>\n",
              "      <td>0.003036</td>\n",
              "      <td>0.00869</td>\n",
              "      <td>0.010452</td>\n",
              "      <td>0.011010</td>\n",
              "      <td>0.01660</td>\n",
              "      <td>0.01743</td>\n",
              "      <td>914.0</td>\n",
              "      <td>0.170479</td>\n",
              "      <td>0.673373</td>\n",
              "      <td>-3.31835</td>\n",
              "      <td>-0.031775</td>\n",
              "      <td>0.193900</td>\n",
              "      <td>0.42327</td>\n",
              "      <td>4.56255</td>\n",
              "      <td>914.0</td>\n",
              "      <td>292.372812</td>\n",
              "      <td>2.924297</td>\n",
              "      <td>286.34949</td>\n",
              "      <td>289.768310</td>\n",
              "      <td>291.099930</td>\n",
              "      <td>295.528278</td>\n",
              "      <td>296.96136</td>\n",
              "      <td>914.0</td>\n",
              "      <td>0.907002</td>\n",
              "      <td>0.290588</td>\n",
              "      <td>0.0</td>\n",
              "      <td>1.0</td>\n",
              "      <td>1.0</td>\n",
              "      <td>1.0</td>\n",
              "      <td>1.0</td>\n",
              "      <td>914.0</td>\n",
              "      <td>376.952954</td>\n",
              "      <td>743.616220</td>\n",
              "      <td>0.0</td>\n",
              "      <td>9.0</td>\n",
              "      <td>64.0</td>\n",
              "      <td>361.0</td>\n",
              "      <td>6241.0</td>\n",
              "    </tr>\n",
              "    <tr>\n",
              "      <th>Willimantic</th>\n",
              "      <td>2266.0</td>\n",
              "      <td>3967.484554</td>\n",
              "      <td>1009.183188</td>\n",
              "      <td>2163.0</td>\n",
              "      <td>3139.0</td>\n",
              "      <td>3895.0</td>\n",
              "      <td>4661.00</td>\n",
              "      <td>6229.0</td>\n",
              "      <td>2266.0</td>\n",
              "      <td>92.806708</td>\n",
              "      <td>80.763698</td>\n",
              "      <td>1.0</td>\n",
              "      <td>43.0</td>\n",
              "      <td>71.0</td>\n",
              "      <td>113.0</td>\n",
              "      <td>645.0</td>\n",
              "      <td>2266.0</td>\n",
              "      <td>67.413681</td>\n",
              "      <td>39.094426</td>\n",
              "      <td>13.0</td>\n",
              "      <td>28.0</td>\n",
              "      <td>59.5</td>\n",
              "      <td>103.800000</td>\n",
              "      <td>147.10001</td>\n",
              "      <td>2266.0</td>\n",
              "      <td>1.434332</td>\n",
              "      <td>0.236219</td>\n",
              "      <td>0.61551</td>\n",
              "      <td>1.286238</td>\n",
              "      <td>1.382745</td>\n",
              "      <td>1.506707</td>\n",
              "      <td>2.74693</td>\n",
              "      <td>2266.0</td>\n",
              "      <td>27.921254</td>\n",
              "      <td>1.432052</td>\n",
              "      <td>24.91148</td>\n",
              "      <td>26.99231</td>\n",
              "      <td>27.79231</td>\n",
              "      <td>28.728305</td>\n",
              "      <td>37.46185</td>\n",
              "      <td>...</td>\n",
              "      <td>2266.0</td>\n",
              "      <td>0.013320</td>\n",
              "      <td>0.002557</td>\n",
              "      <td>0.00952</td>\n",
              "      <td>0.010900</td>\n",
              "      <td>0.011625</td>\n",
              "      <td>0.01587</td>\n",
              "      <td>0.01654</td>\n",
              "      <td>2266.0</td>\n",
              "      <td>0.062064</td>\n",
              "      <td>0.504517</td>\n",
              "      <td>-3.24645</td>\n",
              "      <td>-0.103935</td>\n",
              "      <td>0.128960</td>\n",
              "      <td>0.31998</td>\n",
              "      <td>2.00827</td>\n",
              "      <td>2266.0</td>\n",
              "      <td>293.435777</td>\n",
              "      <td>2.802741</td>\n",
              "      <td>287.59625</td>\n",
              "      <td>290.976275</td>\n",
              "      <td>292.790265</td>\n",
              "      <td>296.136190</td>\n",
              "      <td>297.44409</td>\n",
              "      <td>2266.0</td>\n",
              "      <td>0.831862</td>\n",
              "      <td>0.374071</td>\n",
              "      <td>0.0</td>\n",
              "      <td>1.0</td>\n",
              "      <td>1.0</td>\n",
              "      <td>1.0</td>\n",
              "      <td>1.0</td>\n",
              "      <td>2266.0</td>\n",
              "      <td>57.898941</td>\n",
              "      <td>162.918688</td>\n",
              "      <td>0.0</td>\n",
              "      <td>1.0</td>\n",
              "      <td>9.0</td>\n",
              "      <td>36.0</td>\n",
              "      <td>2304.0</td>\n",
              "    </tr>\n",
              "  </tbody>\n",
              "</table>\n",
              "<p>4 rows × 208 columns</p>\n",
              "</div>"
            ],
            "text/plain": [
              "            GRID_ID                                    ... CountAccident                     \n",
              "              count         mean          std     min  ...           25%   50%    75%     max\n",
              "Region                                                 ...                                   \n",
              "Fairfield    1474.0  4701.605156   952.095914  2755.0  ...           1.0   4.0   16.0   676.0\n",
              "Hartford     1048.0  5469.923664   480.133627  4239.0  ...           1.0   4.0   16.0  2500.0\n",
              "New Haven     914.0  2935.794311  1132.234810   867.0  ...           9.0  64.0  361.0  6241.0\n",
              "Willimantic  2266.0  3967.484554  1009.183188  2163.0  ...           1.0   9.0   36.0  2304.0\n",
              "\n",
              "[4 rows x 208 columns]"
            ]
          },
          "metadata": {
            "tags": []
          },
          "execution_count": 6
        }
      ]
    },
    {
      "cell_type": "code",
      "metadata": {
        "id": "yjwqqEJwRGbG",
        "colab_type": "code",
        "colab": {}
      },
      "source": [
        "county_data=data.groupby(['Region']).mean()\n",
        "county_accident_mean=county_data['FlagAccident']\n",
        "county_accident_mean\n",
        "avg_fairfield=county_accident_mean['Fairfield']\n",
        "avg_hartford=county_accident_mean['Hartford']\n",
        "#print(county_accident_mean,avg_fairfield,avg_hartford)\n",
        "fairfield=data[(data['Region']=='Fairfield')]\n",
        "hartford=data[(data['Region']=='Hartford')]"
      ],
      "execution_count": 0,
      "outputs": []
    },
    {
      "cell_type": "code",
      "metadata": {
        "id": "6jc65pQFgd9E",
        "colab_type": "code",
        "outputId": "be22e3ab-21a9-4e21-ee2d-bea71906d199",
        "colab": {
          "base_uri": "https://localhost:8080/",
          "height": 34
        }
      },
      "source": [
        "\n",
        "\n",
        "result=stats.ttest_ind(hartford['FlagAccident'],fairfield['FlagAccident'],equal_var=False) #As sd is same\n",
        "\n",
        "result\n",
        "#Since it is 1-tailed test we need the real p-value is 1-p/2\n",
        "realp=1-result.pvalue/2\n",
        "result\n",
        "realp # as p-value is greater than 0.05, we fail to reject null hypothesis.There is not enough evidence to prove that the average number of accidents in fairlfield county is more than in hartford.\n"
      ],
      "execution_count": 8,
      "outputs": [
        {
          "output_type": "execute_result",
          "data": {
            "text/plain": [
              "0.586299522711885"
            ]
          },
          "metadata": {
            "tags": []
          },
          "execution_count": 8
        }
      ]
    },
    {
      "cell_type": "markdown",
      "metadata": {
        "id": "Gm230FvyOcC8",
        "colab_type": "text"
      },
      "source": [
        "### Claim\t- On average, do towns in Fairfield County have more accidents than Hartford \n",
        "Hypothesis Test-\n",
        "\n",
        "H0 - Average number of accidents in Fairfield county is less than or equal to that in Hartford\n",
        "\n",
        "H1- Average number of Accidents in Fairfield County more than that in Hartford\n",
        "\n",
        "\n",
        "A two-sample t-test investigates whether the means of two independent data samples differ from one another. In a two-sample test, the null hypothesis is that the means of both groups are the same"
      ]
    },
    {
      "cell_type": "code",
      "metadata": {
        "id": "uDec2OWiOg8H",
        "colab_type": "code",
        "outputId": "b0b421dc-bb3e-46b1-ce86-1b8009a32a9c",
        "colab": {
          "base_uri": "https://localhost:8080/",
          "height": 34
        }
      },
      "source": [
        "\n",
        "result2=stats.ttest_ind(hartford['CountAccident'],fairfield['CountAccident']) #as sd is different\n",
        "\n",
        "result2\n",
        "#Since it is 1-tailed test we need the real p-value is 1-p/2\n",
        "realp2=1-result2.pvalue/2\n",
        "\n",
        "realp2 # as p-value is greater than 0.05, we fail to reject null hypothesis.There is not enough evidence to prove that the average number of accidents in fairlfield county is more than in hartford.\n"
      ],
      "execution_count": 9,
      "outputs": [
        {
          "output_type": "execute_result",
          "data": {
            "text/plain": [
              "0.9711972629943908"
            ]
          },
          "metadata": {
            "tags": []
          },
          "execution_count": 9
        }
      ]
    },
    {
      "cell_type": "markdown",
      "metadata": {
        "id": "yAeyAKVreZKN",
        "colab_type": "text"
      },
      "source": [
        "## Q3: Checking out the response variable "
      ]
    },
    {
      "cell_type": "markdown",
      "metadata": {
        "id": "Msf1bpS5oWhN",
        "colab_type": "text"
      },
      "source": [
        "### Visual test "
      ]
    },
    {
      "cell_type": "code",
      "metadata": {
        "id": "gh9eU2Wwe4L2",
        "colab_type": "code",
        "outputId": "15af3b4c-d065-4b7e-9b52-b7bb1a753212",
        "colab": {
          "base_uri": "https://localhost:8080/",
          "height": 1000
        }
      },
      "source": [
        "#We have 2 response variables in this scenerio. FlagAccident and CountAccident. If we see the flagaccidebt it is a categorical variable with only 2 values 0 and 1. Normal distribution doesn't make any sense in this case. \n",
        "plt.hist(data[\"FlagAccident\"]) #Histogram doesn't reveal any normality\n",
        "plt.show()\n",
        "\n",
        "\n",
        "qqplot(data[\"FlagAccident\"],line='s')#QQ plot showing the scatter plot of points in a parrallel line, not at all closely fitting the expected diagonal pattern for a sample to form a Gaussian distribution.\n",
        "#Conclusion - Visiually this is not a normal distribution"
      ],
      "execution_count": 10,
      "outputs": [
        {
          "output_type": "display_data",
          "data": {
            "image/png": "[encoded data removed]",
            "text/plain": [
              "<Figure size 504x504 with 1 Axes>"
            ]
          },
          "metadata": {
            "tags": []
          }
        },
        {
          "output_type": "execute_result",
          "data": {
            "image/png": "[encoded data removed]",
            "text/plain": [
              "<Figure size 504x504 with 1 Axes>"
            ]
          },
          "metadata": {
            "tags": []
          },
          "execution_count": 10
        },
        {
          "output_type": "display_data",
          "data": {
            "image/png": "[encoded data removed]",
            "text/plain": [
              "<Figure size 504x504 with 1 Axes>"
            ]
          },
          "metadata": {
            "tags": []
          }
        }
      ]
    },
    {
      "cell_type": "code",
      "metadata": {
        "id": "7SdfU6-BLwBH",
        "colab_type": "code",
        "outputId": "cec87453-c52c-4b60-fcc7-f41f69a7fbc3",
        "colab": {
          "base_uri": "https://localhost:8080/",
          "height": 1000
        }
      },
      "source": [
        "#FOR CountAccident. \n",
        "plt.hist(data[\"CountAccident\"]) #Histogram doesn't reveal any normality\n",
        "plt.show()\n",
        "\n",
        "qqplot(data[\"CountAccident\"],line='s')#QQ plot showing the scatter plot of points in a form which definetly doesn't look like a straight line, not at all closely fitting the expected diagonal pattern for a sample to  form a Gaussian distribution.\n",
        "#Conclusion - Visiually this is not a normal distribution"
      ],
      "execution_count": 11,
      "outputs": [
        {
          "output_type": "display_data",
          "data": {
            "image/png": "[encoded data removed]",
            "text/plain": [
              "<Figure size 504x504 with 1 Axes>"
            ]
          },
          "metadata": {
            "tags": []
          }
        },
        {
          "output_type": "execute_result",
          "data": {
            "image/png": "[encoded data removed]",
            "text/plain": [
              "<Figure size 504x504 with 1 Axes>"
            ]
          },
          "metadata": {
            "tags": []
          },
          "execution_count": 11
        },
        {
          "output_type": "display_data",
          "data": {
            "image/png": "[encoded data removed]",
            "text/plain": [
              "<Figure size 504x504 with 1 Axes>"
            ]
          },
          "metadata": {
            "tags": []
          }
        }
      ]
    },
    {
      "cell_type": "markdown",
      "metadata": {
        "id": "G154KiowRjCT",
        "colab_type": "text"
      },
      "source": [
        "### Statistical  test \n",
        "To test the normality of Response Variable"
      ]
    },
    {
      "cell_type": "code",
      "metadata": {
        "id": "xwhBS4YuRitN",
        "colab_type": "code",
        "outputId": "f2fc3a1c-bca0-4b3f-fa2a-422e7f86741a",
        "colab": {
          "base_uri": "https://localhost:8080/",
          "height": 69
        }
      },
      "source": [
        "stat, p =stats.shapiro(data[\"FlagAccident\"])\n",
        "print('Statistics=%.3f, p=%.3f' % (stat, p))"
      ],
      "execution_count": 12,
      "outputs": [
        {
          "output_type": "stream",
          "text": [
            "Statistics=0.477, p=0.000\n"
          ],
          "name": "stdout"
        },
        {
          "output_type": "stream",
          "text": [
            "/usr/local/lib/python3.6/dist-packages/scipy/stats/morestats.py:1660: UserWarning: p-value may not be accurate for N > 5000.\n",
            "  warnings.warn(\"p-value may not be accurate for N > 5000.\")\n"
          ],
          "name": "stderr"
        }
      ]
    },
    {
      "cell_type": "code",
      "metadata": {
        "id": "WNA5XOULVA47",
        "colab_type": "code",
        "outputId": "ba2f7210-54a3-42ae-c7c7-5ebd70141e3e",
        "colab": {
          "base_uri": "https://localhost:8080/",
          "height": 69
        }
      },
      "source": [
        "stat, p =stats.shapiro(data[\"CountAccident\"])\n",
        "print('Statistics=%.3f, p=%.3f' % (stat, p))"
      ],
      "execution_count": 13,
      "outputs": [
        {
          "output_type": "stream",
          "text": [
            "Statistics=0.278, p=0.000\n"
          ],
          "name": "stdout"
        },
        {
          "output_type": "stream",
          "text": [
            "/usr/local/lib/python3.6/dist-packages/scipy/stats/morestats.py:1660: UserWarning: p-value may not be accurate for N > 5000.\n",
            "  warnings.warn(\"p-value may not be accurate for N > 5000.\")\n"
          ],
          "name": "stderr"
        }
      ]
    },
    {
      "cell_type": "markdown",
      "metadata": {
        "id": "CFVJAC00XGZh",
        "colab_type": "text"
      },
      "source": [
        "### Conclusion-\n",
        "\n",
        "p -vlaues for both the cases is very less then 0.01. The value shown in approoximated to 0.000. However, in actual this value is very less and is rounded off to 0.000. With such small values of p we can reject the null hypothesis of Shapiro test- THE DATA IS NORMALLY DISTRIBUTED.\n",
        "\n",
        "Since, we reject the null hypothesis , we can say that the data is not normally distributed. This test works fairly well for data within few thousands. Our dataset has 5702 rows thus we can rely on this test along with the visual tests."
      ]
    },
    {
      "cell_type": "markdown",
      "metadata": {
        "id": "qEpH6FkyYKUI",
        "colab_type": "text"
      },
      "source": [
        "### If not normal, what type of distribution do you see? Defend your answer"
      ]
    },
    {
      "cell_type": "markdown",
      "metadata": {
        "id": "FL1goL89nf8r",
        "colab_type": "text"
      },
      "source": [
        "For Response Variable 1 - Flag Accident.- The distribution followed is e Bernoulli distribution, as the random variable (whether accident will occur) takes only 2 values 0 or 1. This is especial case of binomial distribution.\n",
        "\n",
        "Fot Response Variable 2 - CountAccident-The distribution followed is POISSON as the random variable here (Number of accidents on road) can take any values.."
      ]
    },
    {
      "cell_type": "markdown",
      "metadata": {
        "id": "i0dcq6O5V7wH",
        "colab_type": "text"
      },
      "source": [
        "## Q4:Data preparation "
      ]
    },
    {
      "cell_type": "markdown",
      "metadata": {
        "id": "fVIuQMvFWfiz",
        "colab_type": "text"
      },
      "source": [
        "### Standardize all numeric data using min/max normalization (but not the target variables, 10 points)."
      ]
    },
    {
      "cell_type": "code",
      "metadata": {
        "id": "X4ZrOgGQWvpa",
        "colab_type": "code",
        "colab": {}
      },
      "source": [
        "subset_numeric=data[data.columns[3:-2]] \n",
        "subset_numeric.head()\n",
        "colnames=subset_numeric.columns"
      ],
      "execution_count": 0,
      "outputs": []
    },
    {
      "cell_type": "code",
      "metadata": {
        "id": "qcy5WA9NZjDl",
        "colab_type": "code",
        "outputId": "f9c7cf83-fead-4b9e-e5ed-c301b9ee9920",
        "colab": {
          "base_uri": "https://localhost:8080/",
          "height": 217
        }
      },
      "source": [
        "scaler = MinMaxScaler()\n",
        "standardized_data=scaler.fit_transform(subset_numeric)\n",
        "\n",
        "standardized_data=pd.DataFrame(standardized_data,columns=colnames)\n",
        "standardized_data.head()"
      ],
      "execution_count": 15,
      "outputs": [
        {
          "output_type": "execute_result",
          "data": {
            "text/html": [
              "<div>\n",
              "<style scoped>\n",
              "    .dataframe tbody tr th:only-of-type {\n",
              "        vertical-align: middle;\n",
              "    }\n",
              "\n",
              "    .dataframe tbody tr th {\n",
              "        vertical-align: top;\n",
              "    }\n",
              "\n",
              "    .dataframe thead th {\n",
              "        text-align: right;\n",
              "    }\n",
              "</style>\n",
              "<table border=\"1\" class=\"dataframe\">\n",
              "  <thead>\n",
              "    <tr style=\"text-align: right;\">\n",
              "      <th></th>\n",
              "      <th>RoadLength</th>\n",
              "      <th>MAXTotPrec</th>\n",
              "      <th>MAXWStress</th>\n",
              "      <th>MAXGust</th>\n",
              "      <th>MAXSfcRoff</th>\n",
              "      <th>MAXWind10m</th>\n",
              "      <th>MAXSoilMst</th>\n",
              "      <th>MAXPotTemp</th>\n",
              "      <th>MAXPreRate</th>\n",
              "      <th>MAXSpecHum</th>\n",
              "      <th>MAXAbsVor</th>\n",
              "      <th>MAXTemp</th>\n",
              "      <th>MEANTotPrec</th>\n",
              "      <th>MEANWStress</th>\n",
              "      <th>MEANGust</th>\n",
              "      <th>MEANSfcRoff</th>\n",
              "      <th>MEANWind10m</th>\n",
              "      <th>MEANSoilMst</th>\n",
              "      <th>MEANPotTemp</th>\n",
              "      <th>MEANPreRate</th>\n",
              "      <th>MEANSpecHum</th>\n",
              "      <th>MEANAbsVor</th>\n",
              "      <th>MEANTemp</th>\n",
              "    </tr>\n",
              "  </thead>\n",
              "  <tbody>\n",
              "    <tr>\n",
              "      <th>0</th>\n",
              "      <td>0.108126</td>\n",
              "      <td>0.401564</td>\n",
              "      <td>0.400747</td>\n",
              "      <td>0.443257</td>\n",
              "      <td>0.214286</td>\n",
              "      <td>0.220627</td>\n",
              "      <td>0.186214</td>\n",
              "      <td>0.697851</td>\n",
              "      <td>0.454787</td>\n",
              "      <td>0.760192</td>\n",
              "      <td>0.258344</td>\n",
              "      <td>0.905209</td>\n",
              "      <td>0.415659</td>\n",
              "      <td>0.405581</td>\n",
              "      <td>0.583601</td>\n",
              "      <td>0.214286</td>\n",
              "      <td>0.236192</td>\n",
              "      <td>0.167624</td>\n",
              "      <td>0.727874</td>\n",
              "      <td>0.240449</td>\n",
              "      <td>0.841553</td>\n",
              "      <td>0.373981</td>\n",
              "      <td>0.893263</td>\n",
              "    </tr>\n",
              "    <tr>\n",
              "      <th>1</th>\n",
              "      <td>0.073203</td>\n",
              "      <td>0.413983</td>\n",
              "      <td>0.437586</td>\n",
              "      <td>0.471834</td>\n",
              "      <td>0.229167</td>\n",
              "      <td>0.261681</td>\n",
              "      <td>0.190366</td>\n",
              "      <td>0.637753</td>\n",
              "      <td>0.468085</td>\n",
              "      <td>0.760192</td>\n",
              "      <td>0.222975</td>\n",
              "      <td>0.879697</td>\n",
              "      <td>0.424811</td>\n",
              "      <td>0.449816</td>\n",
              "      <td>0.602167</td>\n",
              "      <td>0.227307</td>\n",
              "      <td>0.282599</td>\n",
              "      <td>0.172670</td>\n",
              "      <td>0.731354</td>\n",
              "      <td>0.267416</td>\n",
              "      <td>0.836306</td>\n",
              "      <td>0.421565</td>\n",
              "      <td>0.875129</td>\n",
              "    </tr>\n",
              "    <tr>\n",
              "      <th>2</th>\n",
              "      <td>0.161854</td>\n",
              "      <td>0.448022</td>\n",
              "      <td>0.411078</td>\n",
              "      <td>0.454687</td>\n",
              "      <td>0.354167</td>\n",
              "      <td>0.229305</td>\n",
              "      <td>0.201440</td>\n",
              "      <td>0.653353</td>\n",
              "      <td>0.492021</td>\n",
              "      <td>0.772182</td>\n",
              "      <td>0.190975</td>\n",
              "      <td>0.880290</td>\n",
              "      <td>0.454638</td>\n",
              "      <td>0.423757</td>\n",
              "      <td>0.580119</td>\n",
              "      <td>0.347842</td>\n",
              "      <td>0.248672</td>\n",
              "      <td>0.193191</td>\n",
              "      <td>0.729073</td>\n",
              "      <td>0.301124</td>\n",
              "      <td>0.836306</td>\n",
              "      <td>0.504043</td>\n",
              "      <td>0.874917</td>\n",
              "    </tr>\n",
              "    <tr>\n",
              "      <th>3</th>\n",
              "      <td>0.109469</td>\n",
              "      <td>0.486661</td>\n",
              "      <td>0.348589</td>\n",
              "      <td>0.414681</td>\n",
              "      <td>0.388393</td>\n",
              "      <td>0.185470</td>\n",
              "      <td>0.231891</td>\n",
              "      <td>0.677876</td>\n",
              "      <td>0.518617</td>\n",
              "      <td>0.784173</td>\n",
              "      <td>0.167861</td>\n",
              "      <td>0.895941</td>\n",
              "      <td>0.489323</td>\n",
              "      <td>0.355048</td>\n",
              "      <td>0.548788</td>\n",
              "      <td>0.378720</td>\n",
              "      <td>0.201655</td>\n",
              "      <td>0.224813</td>\n",
              "      <td>0.725779</td>\n",
              "      <td>0.332584</td>\n",
              "      <td>0.838405</td>\n",
              "      <td>0.450115</td>\n",
              "      <td>0.888776</td>\n",
              "    </tr>\n",
              "    <tr>\n",
              "      <th>4</th>\n",
              "      <td>0.229684</td>\n",
              "      <td>0.399724</td>\n",
              "      <td>0.362922</td>\n",
              "      <td>0.431826</td>\n",
              "      <td>0.197917</td>\n",
              "      <td>0.208524</td>\n",
              "      <td>0.186214</td>\n",
              "      <td>0.648056</td>\n",
              "      <td>0.425532</td>\n",
              "      <td>0.766187</td>\n",
              "      <td>0.273502</td>\n",
              "      <td>0.895515</td>\n",
              "      <td>0.413287</td>\n",
              "      <td>0.358678</td>\n",
              "      <td>0.576638</td>\n",
              "      <td>0.197545</td>\n",
              "      <td>0.217637</td>\n",
              "      <td>0.167961</td>\n",
              "      <td>0.732877</td>\n",
              "      <td>0.239326</td>\n",
              "      <td>0.846800</td>\n",
              "      <td>0.399359</td>\n",
              "      <td>0.898063</td>\n",
              "    </tr>\n",
              "  </tbody>\n",
              "</table>\n",
              "</div>"
            ],
            "text/plain": [
              "   RoadLength  MAXTotPrec  MAXWStress  ...  MEANSpecHum  MEANAbsVor  MEANTemp\n",
              "0    0.108126    0.401564    0.400747  ...     0.841553    0.373981  0.893263\n",
              "1    0.073203    0.413983    0.437586  ...     0.836306    0.421565  0.875129\n",
              "2    0.161854    0.448022    0.411078  ...     0.836306    0.504043  0.874917\n",
              "3    0.109469    0.486661    0.348589  ...     0.838405    0.450115  0.888776\n",
              "4    0.229684    0.399724    0.362922  ...     0.846800    0.399359  0.898063\n",
              "\n",
              "[5 rows x 23 columns]"
            ]
          },
          "metadata": {
            "tags": []
          },
          "execution_count": 15
        }
      ]
    },
    {
      "cell_type": "markdown",
      "metadata": {
        "id": "My8Dj7yfn34D",
        "colab_type": "text"
      },
      "source": [
        "### What is the benefit of this technique is? (5 points)\n",
        "\n"
      ]
    },
    {
      "cell_type": "markdown",
      "metadata": {
        "id": "rploV9Yi_BhV",
        "colab_type": "text"
      },
      "source": [
        "### How will standardization affect the interpretation of the coefficients? "
      ]
    },
    {
      "cell_type": "markdown",
      "metadata": {
        "id": "9yrVQXhM_RVZ",
        "colab_type": "text"
      },
      "source": [
        "## Q5: Modeling "
      ]
    },
    {
      "cell_type": "markdown",
      "metadata": {
        "id": "3IZ1Q6i_pfLI",
        "colab_type": "text"
      },
      "source": [
        ""
      ]
    },
    {
      "cell_type": "code",
      "metadata": {
        "id": "ozVWNyqh_meq",
        "colab_type": "code",
        "colab": {}
      },
      "source": [
        "#before modelling, we prefer to see how the variables are correlated to each other.\n",
        "\n",
        "standardized_data['FlagAccident']=data['FlagAccident']\n",
        "standardized_data['CountAccident']=data['CountAccident']\n",
        "stadcorr=standardized_data.corr().abs()\n",
        "\n",
        "stadcorr\n",
        "\n",
        "# Select upper triangle of correlation matrix\n",
        "upper = stadcorr.where(np.triu(np.ones(stadcorr.shape), k=1).astype(np.bool))\n",
        "upper\n"
      ],
      "execution_count": 0,
      "outputs": []
    },
    {
      "cell_type": "markdown",
      "metadata": {
        "id": "99aJMDa0qOz5",
        "colab_type": "text"
      },
      "source": [
        "Variable selection - using correlation matrix. \n",
        "We have selected following variables and dropped otehr variables beacuase of the high correlation cofficients. This helps in removing any redundancy in the model and capture more variance in data.;\n",
        "\n",
        "MEANAbsVor,MEANPreRate,\tMEANSoilMst,MEANWind10m,MEANTotPrec,MEANGust,MEANWStress,MEANPotTemp,RoadLength. We choose all the mean columns over Max because we believe mean would give a better variance than max values.\n",
        "\n",
        "Cutt of correlation coefficient used is 0.7\n"
      ]
    },
    {
      "cell_type": "markdown",
      "metadata": {
        "id": "bBqSX_qDpkxM",
        "colab_type": "text"
      },
      "source": [
        "### Model 1 (40 points)\n",
        "o\tLogistic regression, use both storms, and manually delete variables less than threshold until parsimony or use regularization.\n",
        "For each regression model, compare the error metrics (mean absolute error, mean absolute percentage error, and RMSE) and compare the coefficients.\n"
      ]
    },
    {
      "cell_type": "code",
      "metadata": {
        "id": "u2tiwewWjVby",
        "colab_type": "code",
        "colab": {}
      },
      "source": [
        "cols=['MEANAbsVor','MEANPreRate', 'MEANSoilMst','MEANWind10m','MEANTotPrec','MEANGust','MEANWStress','MEANPotTemp','RoadLength']\n",
        "x=standardized_data[cols]\n",
        "y=standardized_data['FlagAccident']\n",
        "logit_model=ap.Logit(y,x)\n",
        "result=logit_model.fit()\n",
        "print(result.summary())"
      ],
      "execution_count": 0,
      "outputs": []
    },
    {
      "cell_type": "markdown",
      "metadata": {
        "id": "KkDgOVv8vtWy",
        "colab_type": "text"
      },
      "source": [
        "Looking at the p-vlues , we decide to drop MEANSoilMst,MEANTotPrec ,MEANWStress as the p-values are greater than 0.05 .\n",
        "\n",
        "\n"
      ]
    },
    {
      "cell_type": "code",
      "metadata": {
        "id": "CZ9o_VRD0VYQ",
        "colab_type": "code",
        "colab": {}
      },
      "source": [
        "cols=['MEANAbsVor','MEANPreRate','MEANWind10m','MEANGust','MEANPotTemp','RoadLength']\n",
        "x=standardized_data[cols]\n",
        "y=standardized_data['FlagAccident']\n",
        "logit_model=ap.Logit(y,x)\n",
        "result=logit_model.fit()\n",
        "print(result.summary())\n"
      ],
      "execution_count": 0,
      "outputs": []
    },
    {
      "cell_type": "code",
      "metadata": {
        "id": "ZrUJNNvTUzcA",
        "colab_type": "code",
        "colab": {}
      },
      "source": [
        "logreg=LogisticRegression()\n",
        "logreg.fit(x,y)\n",
        "coef=logreg.coef_\n",
        "coef"
      ],
      "execution_count": 0,
      "outputs": []
    },
    {
      "cell_type": "code",
      "metadata": {
        "id": "4C_c8AJMWK_T",
        "colab_type": "code",
        "colab": {}
      },
      "source": [
        "y_predict=logreg.predict(x)\n",
        "df = pd.DataFrame(columns=['Acutal Y', 'Predicted Y'])\n",
        "df['Acutal Y']=y\n",
        "df['Predicted Y']=y_predict\n",
        "df['Error']=df['Acutal Y']-df['Predicted Y']\n",
        "df['Absolute Error']=df['Error'].abs()\n",
        "df['Squared Error']=df['Error']*df['Error']\n",
        "mse=sklearn.metrics.mean_squared_error(df['Acutal Y'],df['Predicted Y'])\n",
        "mae=sklearn.metrics.mean_absolute_error(df['Acutal Y'],df['Predicted Y'])\n",
        "rmse = math.sqrt(mse)\n",
        "#response variable has 0 and 1 as the possible outcome. Mean absolute percentage error requires the division by actual value. In this case it would result in division by 0 and will cause issue. Thus not a good metrics for comaprision."
      ],
      "execution_count": 0,
      "outputs": []
    },
    {
      "cell_type": "code",
      "metadata": {
        "id": "oLFmFUkQn3hi",
        "colab_type": "code",
        "colab": {
          "base_uri": "https://localhost:8080/",
          "height": 54
        },
        "outputId": "ad592b1c-8c2a-48a3-ae99-130aae19dcd6"
      },
      "source": [
        "#Summary dic\n",
        "m1={'Mean absolute error':mae,'RMSE':rmse,'Variables':['MEANAbsVor','MEANPreRate','MEANWind10m','MEANGust','MEANPotTemp','RoadLength'],'Coefficients':[-0.59948421, -0.45431846, -2.12305589,  2.4625433 ,  1.21551621,\n",
        "        14.82136112]}\n",
        "\n",
        "print(m1)"
      ],
      "execution_count": 38,
      "outputs": [
        {
          "output_type": "stream",
          "text": [
            "{'Mean absolute error': 0.1887057172921782, 'RMSE': 0.43440271326521224, 'Variables': ['MEANAbsVor', 'MEANPreRate', 'MEANWind10m', 'MEANGust', 'MEANPotTemp', 'RoadLength'], 'Coefficients': [-0.59948421, -0.45431846, -2.12305589, 2.4625433, 1.21551621, 14.82136112]}\n"
          ],
          "name": "stdout"
        }
      ]
    },
    {
      "cell_type": "markdown",
      "metadata": {
        "id": "Q7H6QXcTprKm",
        "colab_type": "text"
      },
      "source": [
        "### Model 4 (40 points)\n",
        "o\tPoisson regression, use both storms, and manually delete variables less than threshold until parsimony or use regularization.\n"
      ]
    },
    {
      "cell_type": "code",
      "metadata": {
        "id": "WCJph0Aapprh",
        "colab_type": "code",
        "colab": {
          "base_uri": "https://localhost:8080/",
          "height": 437
        },
        "outputId": "2ce2f456-4b1d-499f-cc3b-b2e129e7ece7"
      },
      "source": [
        "cols=['MEANAbsVor','MEANPreRate','MEANSoilMst','MEANWind10m','MEANTotPrec','MEANGust','MEANWStress','MEANPotTemp','RoadLength'] # p-values for all the variables are 0.000. Thus they are significant.\n",
        "x1=standardized_data[cols]\n",
        "y1=standardized_data['CountAccident']\n",
        "result1 = ap.GLM(y1,x1,family=ap.families.Poisson()).fit()\n",
        "print(result1.summary())\n",
        "y1_predict=result1.predict(x1)\n",
        "\n",
        "df1 = pd.DataFrame(columns=['Acutal Y', 'Predicted Y'])\n",
        "df1['Acutal Y']=y1\n",
        "df1['Predicted Y']=y1_predict\n",
        "df1['Error']=df1['Acutal Y']-df1['Predicted Y']\n",
        "df1['Absolute Error']=df1['Error'].abs()\n",
        "df1['Squared Error']=df1['Error']*df1['Error']\n",
        "mse1=sklearn.metrics.mean_squared_error(df1['Acutal Y'],df1['Predicted Y'])\n",
        "mae1=sklearn.metrics.mean_absolute_error(df1['Acutal Y'],df1['Predicted Y'])\n",
        "rmse1 = math.sqrt(mse1)"
      ],
      "execution_count": 36,
      "outputs": [
        {
          "output_type": "stream",
          "text": [
            "                 Generalized Linear Model Regression Results                  \n",
            "==============================================================================\n",
            "Dep. Variable:          CountAccident   No. Observations:                 5702\n",
            "Model:                            GLM   Df Residuals:                     5693\n",
            "Model Family:                 Poisson   Df Model:                            8\n",
            "Link Function:                    log   Scale:                          1.0000\n",
            "Method:                          IRLS   Log-Likelihood:            -5.3857e+05\n",
            "Date:                Thu, 27 Jun 2019   Deviance:                   1.0556e+06\n",
            "Time:                        06:51:30   Pearson chi2:                 2.50e+06\n",
            "No. Iterations:                     9                                         \n",
            "Covariance Type:            nonrobust                                         \n",
            "===============================================================================\n",
            "                  coef    std err          z      P>|z|      [0.025      0.975]\n",
            "-------------------------------------------------------------------------------\n",
            "MEANAbsVor     -1.2719      0.015    -83.738      0.000      -1.302      -1.242\n",
            "MEANPreRate     1.8965      0.012    160.477      0.000       1.873       1.920\n",
            "MEANSoilMst    10.1613      0.039    262.560      0.000      10.085      10.237\n",
            "MEANWind10m   -11.7689      0.053   -221.694      0.000     -11.873     -11.665\n",
            "MEANTotPrec    -4.2210      0.023   -186.561      0.000      -4.265      -4.177\n",
            "MEANGust        1.9097      0.019    102.636      0.000       1.873       1.946\n",
            "MEANWStress    11.2718      0.042    268.348      0.000      11.189      11.354\n",
            "MEANPotTemp     1.9419      0.019    102.875      0.000       1.905       1.979\n",
            "RoadLength      5.5868      0.006    951.797      0.000       5.575       5.598\n",
            "===============================================================================\n"
          ],
          "name": "stdout"
        }
      ]
    },
    {
      "cell_type": "code",
      "metadata": {
        "id": "7PYskjCir0H8",
        "colab_type": "code",
        "colab": {
          "base_uri": "https://localhost:8080/",
          "height": 54
        },
        "outputId": "6f090b56-4900-439e-cfe6-b1c4552323f8"
      },
      "source": [
        "#Summary dic\n",
        "m2={'Mean absolute error':mae1,'RMSE':rmse1,'Variables':['MEANAbsVor','MEANPreRate','MEANSoilMst','MEANWind10m','MEANTotPrec','MEANGust','MEANWStress','MEANPotTemp','RoadLength'],'Coefficients':[ -1.2719 ,1.8965, 10.1613,-11.7689 ,-4.2210, 1.9097,11.2718,1.9419,5.5868]}\n",
        "\n",
        "print(m2)"
      ],
      "execution_count": 37,
      "outputs": [
        {
          "output_type": "stream",
          "text": [
            "{'Mean absolute error': 101.7082552446722, 'RMSE': 452.71094486159114, 'Variables': ['MEANAbsVor', 'MEANPreRate', 'MEANSoilMst', 'MEANWind10m', 'MEANTotPrec', 'MEANGust', 'MEANWStress', 'MEANPotTemp', 'RoadLength'], 'Coefficients': [-1.2719, 1.8965, 10.1613, -11.7689, -4.221, 1.9097, 11.2718, 1.9419, 5.5868]}\n"
          ],
          "name": "stdout"
        }
      ]
    },
    {
      "cell_type": "markdown",
      "metadata": {
        "id": "b75eWtfpuCqP",
        "colab_type": "text"
      },
      "source": [
        "### Ensemble Mdel \n",
        "Now, for each model pair (Ensemble 1 = Model 1 and 4), multiply the outputs from each individual model. Recompute the error metrics for the ensemble models (mean absolute error, mean absolute percentage error, and RMSE) "
      ]
    },
    {
      "cell_type": "code",
      "metadata": {
        "id": "N6QeSKtPt_Hd",
        "colab_type": "code",
        "colab": {
          "base_uri": "https://localhost:8080/",
          "height": 481
        },
        "outputId": "ca7f6900-2858-4f00-9403-28833df066e4"
      },
      "source": [
        "m3_predict=y_predict*y1_predict\n",
        "df2 = pd.DataFrame(columns=['Acutal Y', 'Predicted Y'])\n",
        "df2['Acutal Y']=y*y1\n",
        "df2['Predicted Y']=m3_predict\n",
        "df2['Error']=df2['Acutal Y']-df2['Predicted Y']\n",
        "df2['Absolute Error']=df2['Error'].abs()\n",
        "df2['Squared Error']=df2['Error']*df2['Error']\n",
        "mse2=sklearn.metrics.mean_squared_error(df2['Acutal Y'],df2['Predicted Y'])\n",
        "mae2=sklearn.metrics.mean_absolute_error(df2['Acutal Y'],df2['Predicted Y'])\n",
        "rmse2 = math.sqrt(mse2)\n",
        "\n",
        "m3={'Mean absolute error':mae2,'RMSE':rmse2}\n",
        "\n",
        "print(m3)\n",
        "df2\n",
        "plt.plot(df2['Acutal Y'],df2['Predicted Y'])\n",
        "plt.title(\"Actual vs Predicted for Ensemble Model\")\n",
        "plt.xlabel('Acutal')\n",
        "plt.ylabel(\"Predicted\")\n",
        "plt.show()\n",
        "\n"
      ],
      "execution_count": 45,
      "outputs": [
        {
          "output_type": "stream",
          "text": [
            "{'Mean absolute error': 101.6881828136219, 'RMSE': 452.7103806416176}\n"
          ],
          "name": "stdout"
        },
        {
          "output_type": "display_data",
          "data": {
            "image/png": "[encoded data removed]",
            "text/plain": [
              "<Figure size 504x504 with 1 Axes>"
            ]
          },
          "metadata": {
            "tags": []
          }
        }
      ]
    }
  ]
}